{
 "cells": [
  {
   "cell_type": "code",
   "execution_count": 1,
   "metadata": {
    "collapsed": false
   },
   "outputs": [
    {
     "name": "stderr",
     "output_type": "stream",
     "text": [
      "/Users/pranjor/anaconda2/lib/python2.7/site-packages/matplotlib/font_manager.py:273: UserWarning: Matplotlib is building the font cache using fc-list. This may take a moment.\n",
      "  warnings.warn('Matplotlib is building the font cache using fc-list. This may take a moment.')\n"
     ]
    },
    {
     "name": "stdout",
     "output_type": "stream",
     "text": [
      "Populating the interactive namespace from numpy and matplotlib\n"
     ]
    }
   ],
   "source": [
    "#import data\n",
    "import pandas as pd\n",
    "import matplotlib.pyplot as plt\n",
    "%pylab inline\n",
    "\n",
    "BodyParts = pd.read_csv('BodyParts.csv')\n",
    "DiagnosisCodes = pd.read_csv('DiagnosisCodes.csv')\n",
    "Disposition = pd.read_csv('Disposition.csv')\n",
    "data = pd.read_csv('NEISS2014.csv')"
   ]
  },
  {
   "cell_type": "markdown",
   "metadata": {},
   "source": [
    "#### Q1 \n",
    "What are the top three body parts most frequently represented in this dataset?"
   ]
  },
  {
   "cell_type": "code",
   "execution_count": 2,
   "metadata": {
    "collapsed": false
   },
   "outputs": [
    {
     "data": {
      "text/html": [
       "<div>\n",
       "<table border=\"1\" class=\"dataframe\">\n",
       "  <thead>\n",
       "    <tr style=\"text-align: right;\">\n",
       "      <th></th>\n",
       "      <th>body_part</th>\n",
       "      <th>BodyPart</th>\n",
       "      <th>Code</th>\n",
       "    </tr>\n",
       "  </thead>\n",
       "  <tbody>\n",
       "    <tr>\n",
       "      <th>10</th>\n",
       "      <td>9891</td>\n",
       "      <td>Head</td>\n",
       "      <td>75</td>\n",
       "    </tr>\n",
       "    <tr>\n",
       "      <th>6</th>\n",
       "      <td>5786</td>\n",
       "      <td>Face</td>\n",
       "      <td>76</td>\n",
       "    </tr>\n",
       "    <tr>\n",
       "      <th>7</th>\n",
       "      <td>5783</td>\n",
       "      <td>Finger</td>\n",
       "      <td>92</td>\n",
       "    </tr>\n",
       "  </tbody>\n",
       "</table>\n",
       "</div>"
      ],
      "text/plain": [
       "    body_part BodyPart  Code\n",
       "10       9891     Head    75\n",
       "6        5786     Face    76\n",
       "7        5783   Finger    92"
      ]
     },
     "execution_count": 2,
     "metadata": {},
     "output_type": "execute_result"
    }
   ],
   "source": [
    "top_bp_code = data.body_part.value_counts().head(3)\n",
    "top_bp_df = pd.DataFrame(top_bp_code)\n",
    "top_parts = pd.merge(top_bp_df,BodyParts,left_index=True,right_on='Code')\n",
    "top_parts"
   ]
  },
  {
   "cell_type": "markdown",
   "metadata": {},
   "source": [
    "What are the top three body parts that are least frequently represented?"
   ]
  },
  {
   "cell_type": "code",
   "execution_count": 3,
   "metadata": {
    "collapsed": false
   },
   "outputs": [
    {
     "data": {
      "text/html": [
       "<div>\n",
       "<table border=\"1\" class=\"dataframe\">\n",
       "  <thead>\n",
       "    <tr style=\"text-align: right;\">\n",
       "      <th></th>\n",
       "      <th>body_part</th>\n",
       "      <th>BodyPart</th>\n",
       "      <th>Code</th>\n",
       "    </tr>\n",
       "  </thead>\n",
       "  <tbody>\n",
       "    <tr>\n",
       "      <th>11</th>\n",
       "      <td>549</td>\n",
       "      <td>Internal</td>\n",
       "      <td>0</td>\n",
       "    </tr>\n",
       "    <tr>\n",
       "      <th>25</th>\n",
       "      <td>390</td>\n",
       "      <td>Not Recorded</td>\n",
       "      <td>87</td>\n",
       "    </tr>\n",
       "    <tr>\n",
       "      <th>17</th>\n",
       "      <td>286</td>\n",
       "      <td>Pubic region</td>\n",
       "      <td>38</td>\n",
       "    </tr>\n",
       "    <tr>\n",
       "      <th>23</th>\n",
       "      <td>4</td>\n",
       "      <td>25-50% of body</td>\n",
       "      <td>84</td>\n",
       "    </tr>\n",
       "  </tbody>\n",
       "</table>\n",
       "</div>"
      ],
      "text/plain": [
       "    body_part        BodyPart  Code\n",
       "11        549        Internal     0\n",
       "25        390    Not Recorded    87\n",
       "17        286    Pubic region    38\n",
       "23          4  25-50% of body    84"
      ]
     },
     "execution_count": 3,
     "metadata": {},
     "output_type": "execute_result"
    }
   ],
   "source": [
    "bottom_bp_code = data.body_part.value_counts().tail(4)\n",
    "bottom_bp_df = pd.DataFrame(bottom_bp_code)\n",
    "bottom_parts = pd.merge(bottom_bp_df,BodyParts,left_index=True,right_on='Code')\n",
    "bottom_parts"
   ]
  },
  {
   "cell_type": "markdown",
   "metadata": {},
   "source": [
    "Since \"Not Recorded\" shouldn't count as a body part, the least frequent parts should be internal, public region, and 25%-50% of body."
   ]
  },
  {
   "cell_type": "markdown",
   "metadata": {},
   "source": [
    "#### Q2 "
   ]
  },
  {
   "cell_type": "markdown",
   "metadata": {},
   "source": [
    "How many injuries in this dataset involve a skateboard?\n",
    "Of those injuries, what percentage were male and what percentage were female?\n",
    "What was the average age of someone injured in an incident involving a skateboard?"
   ]
  },
  {
   "cell_type": "code",
   "execution_count": 4,
   "metadata": {
    "collapsed": false
   },
   "outputs": [
    {
     "name": "stdout",
     "output_type": "stream",
     "text": [
      "skateboard related injury number:  466\n"
     ]
    }
   ],
   "source": [
    "# change the narratives to lower case just in case it's not consistent\n",
    "narrative_lower = data.narrative.str.lower()\n",
    "data_lower = data\n",
    "data_lower.narrative = narrative_lower\n",
    "skateboard_data = data_lower[data_lower.narrative.str.contains('skateboard')]\n",
    "skateboard_injury_count = skateboard_data.shape[0]\n",
    "print \"skateboard related injury number: \", skateboard_injury_count"
   ]
  },
  {
   "cell_type": "code",
   "execution_count": 5,
   "metadata": {
    "collapsed": false
   },
   "outputs": [
    {
     "name": "stdout",
     "output_type": "stream",
     "text": [
      "male percentage:  82.4%\n",
      "female percentage:  17.6%\n"
     ]
    }
   ],
   "source": [
    "# male percentage\n",
    "skateboard_male_count = skateboard_data[skateboard_data.sex=='Male'].shape[0]\n",
    "skateboard_male_per = float(skateboard_male_count)/float(skateboard_injury_count)\n",
    "print \"male percentage: \", \"{:.1%}\".format(skateboard_male_per)\n",
    "\n",
    "# female percentage\n",
    "# I did not use 1-male% to calculate female% because future data might include other genders or no gender\n",
    "skateboard_female_count = skateboard_data[skateboard_data.sex=='Female'].shape[0]\n",
    "skateboard_female_per = float(skateboard_female_count)/float(skateboard_injury_count)\n",
    "print \"female percentage: \", \"{:.1%}\".format(skateboard_female_per)"
   ]
  },
  {
   "cell_type": "code",
   "execution_count": 6,
   "metadata": {
    "collapsed": false
   },
   "outputs": [
    {
     "name": "stdout",
     "output_type": "stream",
     "text": [
      "average age:  17.99\n"
     ]
    }
   ],
   "source": [
    "# No one was under 2 years old, so no need to convert 200s to years.\n",
    "skateboard_mean_age = skateboard_data.age.mean()\n",
    "print \"average age: \", round(skateboard_mean_age,2)"
   ]
  },
  {
   "cell_type": "markdown",
   "metadata": {},
   "source": [
    "#### Q3"
   ]
  },
  {
   "cell_type": "markdown",
   "metadata": {},
   "source": [
    "What diagnosis had the highest hospitalization rate? \n",
    "What diagnosis most often concluded with the individual leaving without being seen?\n",
    "Briefly discuss your findings and any caveats you'd mention when discussing this data"
   ]
  },
  {
   "cell_type": "code",
   "execution_count": 7,
   "metadata": {
    "collapsed": false
   },
   "outputs": [
    {
     "name": "stdout",
     "output_type": "stream",
     "text": [
      "highest hospitalization rate: Submersion (including Drowning)\n"
     ]
    }
   ],
   "source": [
    "# Assume both 4 and 5 in diposition code count as hospitalization\n",
    "crosstab = pd.crosstab(data.diag,data.disposition)\n",
    "crosstab.head()\n",
    "hospit_rate = (crosstab[4]+crosstab[5])/crosstab.sum(axis=1)\n",
    "highest_rate_code = hospit_rate.idxmax()\n",
    "highest_rate_diag = DiagnosisCodes[DiagnosisCodes.Code == highest_rate_code]\n",
    "print 'highest hospitalization rate:', highest_rate_diag.Diagnosis.values[0]"
   ]
  },
  {
   "cell_type": "code",
   "execution_count": 8,
   "metadata": {
    "collapsed": false
   },
   "outputs": [
    {
     "data": {
      "text/plain": [
       "diag\n",
       "71    257\n",
       "59    123\n",
       "62     63\n",
       "53     52\n",
       "68     24\n",
       "Name: 6, dtype: int64"
      ]
     },
     "execution_count": 8,
     "metadata": {},
     "output_type": "execute_result"
    }
   ],
   "source": [
    "# finding most common diagnosis associated with \"leaving without being seen\"\n",
    "leaving_diag = crosstab[6].sort_values(ascending=False).head()\n",
    "leaving_diag"
   ]
  },
  {
   "cell_type": "markdown",
   "metadata": {},
   "source": [
    "The top code is 71, which is \"other\". So I have to look into \"diag_other\" column"
   ]
  },
  {
   "cell_type": "code",
   "execution_count": 9,
   "metadata": {
    "collapsed": false
   },
   "outputs": [
    {
     "data": {
      "text/plain": [
       "PAIN            123\n",
       "BACK PAIN        10\n",
       "NO DIAGNOSIS      9\n",
       "KNEE PAIN         5\n",
       "N/S               4\n",
       "Name: diag_other, dtype: int64"
      ]
     },
     "execution_count": 9,
     "metadata": {},
     "output_type": "execute_result"
    }
   ],
   "source": [
    "leaving_detail = data[(data.disposition == 6) & (data.diag == 71)]\n",
    "leaving_detail.diag_other.value_counts().head()"
   ]
  },
  {
   "cell_type": "markdown",
   "metadata": {},
   "source": [
    "The top descriptions in the \"diag_other\" are more symptoms than diagonsis. So I chose the 2nd most common diagnosis as the final answer."
   ]
  },
  {
   "cell_type": "code",
   "execution_count": 10,
   "metadata": {
    "collapsed": false
   },
   "outputs": [
    {
     "data": {
      "text/html": [
       "<div>\n",
       "<table border=\"1\" class=\"dataframe\">\n",
       "  <thead>\n",
       "    <tr style=\"text-align: right;\">\n",
       "      <th></th>\n",
       "      <th>Diagnosis</th>\n",
       "      <th>Code</th>\n",
       "    </tr>\n",
       "  </thead>\n",
       "  <tbody>\n",
       "    <tr>\n",
       "      <th>23</th>\n",
       "      <td>Laceration</td>\n",
       "      <td>59</td>\n",
       "    </tr>\n",
       "  </tbody>\n",
       "</table>\n",
       "</div>"
      ],
      "text/plain": [
       "     Diagnosis  Code\n",
       "23  Laceration    59"
      ]
     },
     "execution_count": 10,
     "metadata": {},
     "output_type": "execute_result"
    }
   ],
   "source": [
    "DiagnosisCodes[DiagnosisCodes.Code == leaving_diag.index[1]]"
   ]
  },
  {
   "cell_type": "markdown",
   "metadata": {},
   "source": [
    "The answer assumes that the records with code 6 represent \"leaving without being seen\", not \"left against medical advice\". One thing to do is to cross check with the narratives, but sometimes the narratives don't have all the information."
   ]
  },
  {
   "cell_type": "markdown",
   "metadata": {},
   "source": [
    "#### Q4"
   ]
  },
  {
   "cell_type": "markdown",
   "metadata": {},
   "source": [
    "Visualize any existing relationship between age and reported injuries"
   ]
  },
  {
   "cell_type": "code",
   "execution_count": 11,
   "metadata": {
    "collapsed": false
   },
   "outputs": [],
   "source": [
    "# convert records of 200s to years\n",
    "def convert_age (row):\n",
    "    if row.age >= 200:\n",
    "        return (float(row.age)-200)/24\n",
    "    else:\n",
    "        return row.age\n",
    "\n",
    "age_diag = data[['age','diag']]\n",
    "age_diag = age_diag[age_diag.age <> 0] # drop rows that don't have age\n",
    "age_diag['new_age'] = age_diag.apply(convert_age, axis=1)"
   ]
  },
  {
   "cell_type": "code",
   "execution_count": 12,
   "metadata": {
    "collapsed": false
   },
   "outputs": [],
   "source": [
    "# finding median age for each diagnosis\n",
    "diag_group = pd.DataFrame({col:vals['new_age'] for col, vals in age_diag.groupby(['diag'])})\n",
    "med = diag_group.median().sort_values()\n",
    "\n",
    "ls_age = []\n",
    "for i in med.index:\n",
    "    ls_age += [age_diag[age_diag.diag == i].new_age.values]"
   ]
  },
  {
   "cell_type": "code",
   "execution_count": 13,
   "metadata": {
    "collapsed": false
   },
   "outputs": [
    {
     "data": {
      "text/plain": [
       "<function matplotlib.pyplot.show>"
      ]
     },
     "execution_count": 13,
     "metadata": {},
     "output_type": "execute_result"
    },
    {
     "data": {
      "image/png": "[encoded data removed]",
      "text/plain": [
       "<matplotlib.figure.Figure at 0x1133a6650>"
      ]
     },
     "metadata": {},
     "output_type": "display_data"
    }
   ],
   "source": [
    "# plotting the relationship\n",
    "plt.subplots(figsize=(12, 6))\n",
    "plt.boxplot(ls_age)\n",
    "plt.xticks(range(1,31),med.index)\n",
    "plt.ylabel('age')\n",
    "plt.xlabel('diagnostic code')\n",
    "plt.title('Injury Age Range')\n",
    "plt.show"
   ]
  },
  {
   "cell_type": "code",
   "execution_count": 14,
   "metadata": {
    "collapsed": false
   },
   "outputs": [
    {
     "name": "stdout",
     "output_type": "stream",
     "text": [
      "                   Diagnosis  Code\n",
      "2   Aspirated foreign object    42\n",
      "24              Nerve damage    61\n"
     ]
    }
   ],
   "source": [
    "print DiagnosisCodes[(DiagnosisCodes.Code == 61) | (DiagnosisCodes.Code == 42)]"
   ]
  },
  {
   "cell_type": "markdown",
   "metadata": {},
   "source": [
    "The chart above is a boxplot of age range of all injuries sorted by median age. Some injuries, such as aspirating foreign object (42), occur more often with children; some injuries, such as nerve damage (61), occur more often with older adults."
   ]
  },
  {
   "cell_type": "markdown",
   "metadata": {},
   "source": [
    "#### Q5\n",
    "Please check indeed Q5.twb in the same folder for details."
   ]
  },
  {
   "cell_type": "markdown",
   "metadata": {},
   "source": [
    "The plot below shows that the most common injuries are Laceration (59), Contusions (53), and strain (64). The injuries were more or less evenly represented in all social classes."
   ]
  },
  {
   "cell_type": "markdown",
   "metadata": {},
   "source": [
    "<img src=\"injuries by stratum.png\">"
   ]
  },
  {
   "cell_type": "markdown",
   "metadata": {},
   "source": [
    "The plot below shows that most of the injuries were treated on the spot, with the exception of fracture (57), which has a significant number of hospitalizaton cases. However, this is different from hospitalization rate from Q3."
   ]
  },
  {
   "cell_type": "markdown",
   "metadata": {},
   "source": [
    "<img src=\"injuries by disposition.png\">"
   ]
  },
  {
   "cell_type": "markdown",
   "metadata": {},
   "source": [
    "The plot below shows that the most common injury related products are stairs, flooring, and beds. Naturally, most of these incidents happened at home."
   ]
  },
  {
   "cell_type": "markdown",
   "metadata": {},
   "source": [
    "<img src=\"products by location.png\">"
   ]
  },
  {
   "cell_type": "markdown",
   "metadata": {},
   "source": [
    "The plot below shows that head is the most frequently injured body part by a large margin. Half of that can be attributed to internal organ injury. Lacertaion caused a large number of head injury cases, as well as face (76) and finger (92)."
   ]
  },
  {
   "cell_type": "markdown",
   "metadata": {},
   "source": [
    "<img src=\"body parts by injury.png\">"
   ]
  },
  {
   "cell_type": "markdown",
   "metadata": {
    "collapsed": true
   },
   "source": [
    "The plot below is the age range of each body part. Kids and young adults tend to hurt their mouths(88) and ears(94), and older people tend to hurt their upper trunks(31) and lower trunks(79)."
   ]
  },
  {
   "cell_type": "markdown",
   "metadata": {},
   "source": [
    "<img src=\"age range for body parts.png\">"
   ]
  }
 ],
 "metadata": {
  "anaconda-cloud": {},
  "kernelspec": {
   "display_name": "Python [default]",
   "language": "python",
   "name": "python2"
  },
  "language_info": {
   "codemirror_mode": {
    "name": "ipython",
    "version": 2
   },
   "file_extension": ".py",
   "mimetype": "text/x-python",
   "name": "python",
   "nbconvert_exporter": "python",
   "pygments_lexer": "ipython2",
   "version": "2.7.12"
  }
 },
 "nbformat": 4,
 "nbformat_minor": 1
}
