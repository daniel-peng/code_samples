{
 "cells": [
  {
   "cell_type": "markdown",
   "metadata": {},
   "source": [
    "The purpose of this code sample is to demontrate a simple analysis and classification excercise I have done with a small set of second hand vehicle purchase data. The classification part consists of predicting if an already purchased vehicle will generate good, average, or negative profit.\n",
    "\n",
    "The excercise takes the following steps:\n",
    "1. Load the data and apply statistical analysis to discover the most important features.\n",
    "2. Train one or more machine learning algorithms on the dataset, provide the test accuracy for each one.\n",
    "3. Provide conclusions about the experiment and the dataset. Provide possible future work alternatives/reccomendations."
   ]
  },
  {
   "cell_type": "code",
   "execution_count": 1,
   "metadata": {
    "collapsed": false
   },
   "outputs": [
    {
     "name": "stderr",
     "output_type": "stream",
     "text": [
      "/Users/pranjor/anaconda2/lib/python2.7/site-packages/matplotlib/font_manager.py:273: UserWarning: Matplotlib is building the font cache using fc-list. This may take a moment.\n",
      "  warnings.warn('Matplotlib is building the font cache using fc-list. This may take a moment.')\n"
     ]
    }
   ],
   "source": [
    "# A bit of setup\n",
    "\n",
    "import matplotlib.pyplot as plt\n",
    "import pandas as pd\n",
    "\n",
    "from tal.dataset import load\n",
    "\n",
    "%matplotlib inline\n",
    "plt.rcParams['figure.figsize'] = (10.0, 8.0) # set default size of plots\n",
    "plt.rcParams['image.interpolation'] = 'nearest'\n",
    "plt.rcParams['image.cmap'] = 'gray'\n",
    "\n",
    "# for auto-reloading external modules\n",
    "# see http://stackoverflow.com/questions/1907993/autoreload-of-modules-in-ipython\n",
    "%load_ext autoreload\n",
    "%autoreload 2"
   ]
  },
  {
   "cell_type": "markdown",
   "metadata": {},
   "source": [
    "## 1. Load the dataset"
   ]
  },
  {
   "cell_type": "code",
   "execution_count": 2,
   "metadata": {
    "collapsed": false,
    "scrolled": true
   },
   "outputs": [
    {
     "name": "stdout",
     "output_type": "stream",
     "text": [
      "tal/dataset/dataset.csv\n"
     ]
    }
   ],
   "source": [
    "raw_data = load()"
   ]
  },
  {
   "cell_type": "markdown",
   "metadata": {},
   "source": [
    "Let's inspect the features"
   ]
  },
  {
   "cell_type": "code",
   "execution_count": 3,
   "metadata": {
    "collapsed": false
   },
   "outputs": [
    {
     "name": "stdout",
     "output_type": "stream",
     "text": [
      "0 id\n",
      "1 mileage\n",
      "2 customer_id\n",
      "3 dealership_id\n",
      "4 interior_condition\n",
      "5 powertrain\n",
      "6 vehicle_type\n",
      "7 structural_damage\n",
      "8 exterior_condition\n",
      "9 windshield\n",
      "10 tires_status\n",
      "11 tires_needs_new\n",
      "12 tires_brand\n",
      "13 wheels_alloy\n",
      "14 wheels_size\n",
      "15 wheels_condition\n",
      "16 year\n",
      "17 style\n",
      "18 trans\n",
      "19 engine\n",
      "20 drivetrain\n",
      "21 division\n",
      "22 base_price\n",
      "23 tires\n",
      "24 seats\n",
      "25 paint\n",
      "26 color\n",
      "27 interior_color\n",
      "28 seconds_in_disposition\n",
      "29 transports_count\n",
      "30 bought_price\n",
      "31 costs\n",
      "32 profit\n"
     ]
    }
   ],
   "source": [
    "for i, key in enumerate(raw_data.keys()):\n",
    "    print i, key"
   ]
  },
  {
   "cell_type": "code",
   "execution_count": 4,
   "metadata": {
    "collapsed": false
   },
   "outputs": [
    {
     "data": {
      "text/html": [
       "<div>\n",
       "<table border=\"1\" class=\"dataframe\">\n",
       "  <thead>\n",
       "    <tr style=\"text-align: right;\">\n",
       "      <th></th>\n",
       "      <th>id</th>\n",
       "      <th>mileage</th>\n",
       "      <th>customer_id</th>\n",
       "      <th>dealership_id</th>\n",
       "      <th>interior_condition</th>\n",
       "      <th>powertrain</th>\n",
       "      <th>structural_damage</th>\n",
       "      <th>exterior_condition</th>\n",
       "      <th>windshield</th>\n",
       "      <th>tires_status</th>\n",
       "      <th>tires_needs_new</th>\n",
       "      <th>wheels_alloy</th>\n",
       "      <th>wheels_size</th>\n",
       "      <th>wheels_condition</th>\n",
       "      <th>year</th>\n",
       "      <th>base_price</th>\n",
       "      <th>seconds_in_disposition</th>\n",
       "      <th>transports_count</th>\n",
       "      <th>bought_price</th>\n",
       "      <th>costs</th>\n",
       "    </tr>\n",
       "  </thead>\n",
       "  <tbody>\n",
       "    <tr>\n",
       "      <th>count</th>\n",
       "      <td>6446.000000</td>\n",
       "      <td>6.446000e+03</td>\n",
       "      <td>6446.000000</td>\n",
       "      <td>6446.000000</td>\n",
       "      <td>6446.000000</td>\n",
       "      <td>6446.000000</td>\n",
       "      <td>6446.000000</td>\n",
       "      <td>6446.000000</td>\n",
       "      <td>6446.000000</td>\n",
       "      <td>6446.000000</td>\n",
       "      <td>6446.000000</td>\n",
       "      <td>6446.000000</td>\n",
       "      <td>6446.000000</td>\n",
       "      <td>6446.000000</td>\n",
       "      <td>6446.000000</td>\n",
       "      <td>6446.000000</td>\n",
       "      <td>6.446000e+03</td>\n",
       "      <td>6446.000000</td>\n",
       "      <td>6446.000000</td>\n",
       "      <td>6446.000000</td>\n",
       "    </tr>\n",
       "    <tr>\n",
       "      <th>mean</th>\n",
       "      <td>25603.051039</td>\n",
       "      <td>2.435498e+05</td>\n",
       "      <td>767.399628</td>\n",
       "      <td>359.116661</td>\n",
       "      <td>1.273658</td>\n",
       "      <td>1.897301</td>\n",
       "      <td>0.961371</td>\n",
       "      <td>1.006981</td>\n",
       "      <td>1.913900</td>\n",
       "      <td>1.268228</td>\n",
       "      <td>0.822215</td>\n",
       "      <td>0.003413</td>\n",
       "      <td>16.870773</td>\n",
       "      <td>1.010084</td>\n",
       "      <td>2008.363016</td>\n",
       "      <td>25035.573844</td>\n",
       "      <td>1.174283e+06</td>\n",
       "      <td>0.752715</td>\n",
       "      <td>11664.636984</td>\n",
       "      <td>165.805150</td>\n",
       "    </tr>\n",
       "    <tr>\n",
       "      <th>std</th>\n",
       "      <td>15739.877613</td>\n",
       "      <td>1.244394e+07</td>\n",
       "      <td>441.439853</td>\n",
       "      <td>244.092506</td>\n",
       "      <td>0.783585</td>\n",
       "      <td>0.337474</td>\n",
       "      <td>0.192723</td>\n",
       "      <td>0.716933</td>\n",
       "      <td>0.334055</td>\n",
       "      <td>0.777818</td>\n",
       "      <td>1.454042</td>\n",
       "      <td>0.058325</td>\n",
       "      <td>1.485662</td>\n",
       "      <td>0.689762</td>\n",
       "      <td>35.714732</td>\n",
       "      <td>13880.516791</td>\n",
       "      <td>1.740796e+06</td>\n",
       "      <td>0.706155</td>\n",
       "      <td>11597.708309</td>\n",
       "      <td>360.630539</td>\n",
       "    </tr>\n",
       "    <tr>\n",
       "      <th>min</th>\n",
       "      <td>231.000000</td>\n",
       "      <td>1.000000e+00</td>\n",
       "      <td>2.000000</td>\n",
       "      <td>1.000000</td>\n",
       "      <td>0.000000</td>\n",
       "      <td>0.000000</td>\n",
       "      <td>0.000000</td>\n",
       "      <td>0.000000</td>\n",
       "      <td>0.000000</td>\n",
       "      <td>0.000000</td>\n",
       "      <td>0.000000</td>\n",
       "      <td>0.000000</td>\n",
       "      <td>0.000000</td>\n",
       "      <td>0.000000</td>\n",
       "      <td>0.000000</td>\n",
       "      <td>0.000000</td>\n",
       "      <td>2.750000e+02</td>\n",
       "      <td>0.000000</td>\n",
       "      <td>50.000000</td>\n",
       "      <td>-6951.000000</td>\n",
       "    </tr>\n",
       "    <tr>\n",
       "      <th>25%</th>\n",
       "      <td>13236.000000</td>\n",
       "      <td>3.416025e+04</td>\n",
       "      <td>434.000000</td>\n",
       "      <td>178.000000</td>\n",
       "      <td>1.000000</td>\n",
       "      <td>2.000000</td>\n",
       "      <td>1.000000</td>\n",
       "      <td>0.000000</td>\n",
       "      <td>2.000000</td>\n",
       "      <td>1.000000</td>\n",
       "      <td>0.000000</td>\n",
       "      <td>0.000000</td>\n",
       "      <td>16.000000</td>\n",
       "      <td>1.000000</td>\n",
       "      <td>2005.000000</td>\n",
       "      <td>18771.000000</td>\n",
       "      <td>2.688645e+05</td>\n",
       "      <td>0.000000</td>\n",
       "      <td>2200.000000</td>\n",
       "      <td>35.000000</td>\n",
       "    </tr>\n",
       "    <tr>\n",
       "      <th>50%</th>\n",
       "      <td>22760.500000</td>\n",
       "      <td>7.984200e+04</td>\n",
       "      <td>771.000000</td>\n",
       "      <td>284.000000</td>\n",
       "      <td>1.000000</td>\n",
       "      <td>2.000000</td>\n",
       "      <td>1.000000</td>\n",
       "      <td>1.000000</td>\n",
       "      <td>2.000000</td>\n",
       "      <td>1.000000</td>\n",
       "      <td>0.000000</td>\n",
       "      <td>0.000000</td>\n",
       "      <td>17.000000</td>\n",
       "      <td>1.000000</td>\n",
       "      <td>2010.000000</td>\n",
       "      <td>24574.000000</td>\n",
       "      <td>6.523195e+05</td>\n",
       "      <td>1.000000</td>\n",
       "      <td>8400.000000</td>\n",
       "      <td>135.000000</td>\n",
       "    </tr>\n",
       "    <tr>\n",
       "      <th>75%</th>\n",
       "      <td>37796.500000</td>\n",
       "      <td>1.278042e+05</td>\n",
       "      <td>1085.000000</td>\n",
       "      <td>478.000000</td>\n",
       "      <td>2.000000</td>\n",
       "      <td>2.000000</td>\n",
       "      <td>1.000000</td>\n",
       "      <td>2.000000</td>\n",
       "      <td>2.000000</td>\n",
       "      <td>2.000000</td>\n",
       "      <td>2.000000</td>\n",
       "      <td>0.000000</td>\n",
       "      <td>18.000000</td>\n",
       "      <td>1.000000</td>\n",
       "      <td>2013.000000</td>\n",
       "      <td>32011.250000</td>\n",
       "      <td>1.386046e+06</td>\n",
       "      <td>1.000000</td>\n",
       "      <td>18000.000000</td>\n",
       "      <td>250.000000</td>\n",
       "    </tr>\n",
       "    <tr>\n",
       "      <th>max</th>\n",
       "      <td>62683.000000</td>\n",
       "      <td>9.991102e+08</td>\n",
       "      <td>2288.000000</td>\n",
       "      <td>1342.000000</td>\n",
       "      <td>2.000000</td>\n",
       "      <td>2.000000</td>\n",
       "      <td>1.000000</td>\n",
       "      <td>2.000000</td>\n",
       "      <td>2.000000</td>\n",
       "      <td>4.000000</td>\n",
       "      <td>4.000000</td>\n",
       "      <td>1.000000</td>\n",
       "      <td>27.000000</td>\n",
       "      <td>2.000000</td>\n",
       "      <td>2017.000000</td>\n",
       "      <td>160704.000000</td>\n",
       "      <td>4.225880e+07</td>\n",
       "      <td>10.000000</td>\n",
       "      <td>99000.000000</td>\n",
       "      <td>8936.000000</td>\n",
       "    </tr>\n",
       "  </tbody>\n",
       "</table>\n",
       "</div>"
      ],
      "text/plain": [
       "                 id       mileage  customer_id  dealership_id  \\\n",
       "count   6446.000000  6.446000e+03  6446.000000    6446.000000   \n",
       "mean   25603.051039  2.435498e+05   767.399628     359.116661   \n",
       "std    15739.877613  1.244394e+07   441.439853     244.092506   \n",
       "min      231.000000  1.000000e+00     2.000000       1.000000   \n",
       "25%    13236.000000  3.416025e+04   434.000000     178.000000   \n",
       "50%    22760.500000  7.984200e+04   771.000000     284.000000   \n",
       "75%    37796.500000  1.278042e+05  1085.000000     478.000000   \n",
       "max    62683.000000  9.991102e+08  2288.000000    1342.000000   \n",
       "\n",
       "       interior_condition   powertrain  structural_damage  exterior_condition  \\\n",
       "count         6446.000000  6446.000000        6446.000000         6446.000000   \n",
       "mean             1.273658     1.897301           0.961371            1.006981   \n",
       "std              0.783585     0.337474           0.192723            0.716933   \n",
       "min              0.000000     0.000000           0.000000            0.000000   \n",
       "25%              1.000000     2.000000           1.000000            0.000000   \n",
       "50%              1.000000     2.000000           1.000000            1.000000   \n",
       "75%              2.000000     2.000000           1.000000            2.000000   \n",
       "max              2.000000     2.000000           1.000000            2.000000   \n",
       "\n",
       "        windshield  tires_status  tires_needs_new  wheels_alloy  wheels_size  \\\n",
       "count  6446.000000   6446.000000      6446.000000   6446.000000  6446.000000   \n",
       "mean      1.913900      1.268228         0.822215      0.003413    16.870773   \n",
       "std       0.334055      0.777818         1.454042      0.058325     1.485662   \n",
       "min       0.000000      0.000000         0.000000      0.000000     0.000000   \n",
       "25%       2.000000      1.000000         0.000000      0.000000    16.000000   \n",
       "50%       2.000000      1.000000         0.000000      0.000000    17.000000   \n",
       "75%       2.000000      2.000000         2.000000      0.000000    18.000000   \n",
       "max       2.000000      4.000000         4.000000      1.000000    27.000000   \n",
       "\n",
       "       wheels_condition         year     base_price  seconds_in_disposition  \\\n",
       "count       6446.000000  6446.000000    6446.000000            6.446000e+03   \n",
       "mean           1.010084  2008.363016   25035.573844            1.174283e+06   \n",
       "std            0.689762    35.714732   13880.516791            1.740796e+06   \n",
       "min            0.000000     0.000000       0.000000            2.750000e+02   \n",
       "25%            1.000000  2005.000000   18771.000000            2.688645e+05   \n",
       "50%            1.000000  2010.000000   24574.000000            6.523195e+05   \n",
       "75%            1.000000  2013.000000   32011.250000            1.386046e+06   \n",
       "max            2.000000  2017.000000  160704.000000            4.225880e+07   \n",
       "\n",
       "       transports_count  bought_price        costs  \n",
       "count       6446.000000   6446.000000  6446.000000  \n",
       "mean           0.752715  11664.636984   165.805150  \n",
       "std            0.706155  11597.708309   360.630539  \n",
       "min            0.000000     50.000000 -6951.000000  \n",
       "25%            0.000000   2200.000000    35.000000  \n",
       "50%            1.000000   8400.000000   135.000000  \n",
       "75%            1.000000  18000.000000   250.000000  \n",
       "max           10.000000  99000.000000  8936.000000  "
      ]
     },
     "execution_count": 4,
     "metadata": {},
     "output_type": "execute_result"
    }
   ],
   "source": [
    "raw_data.describe()"
   ]
  },
  {
   "cell_type": "markdown",
   "metadata": {},
   "source": [
    "And plot some of the feature distributions"
   ]
  },
  {
   "cell_type": "code",
   "execution_count": 5,
   "metadata": {
    "collapsed": false
   },
   "outputs": [
    {
     "data": {
      "text/plain": [
       "array([[<matplotlib.axes._subplots.AxesSubplot object at 0x112672750>,\n",
       "        <matplotlib.axes._subplots.AxesSubplot object at 0x1043066d0>],\n",
       "       [<matplotlib.axes._subplots.AxesSubplot object at 0x112eef710>,\n",
       "        <matplotlib.axes._subplots.AxesSubplot object at 0x112f5e0d0>]], dtype=object)"
      ]
     },
     "execution_count": 5,
     "metadata": {},
     "output_type": "execute_result"
    },
    {
     "data": {
      "image/png": "[encoded data removed]",
      "text/plain": [
       "<matplotlib.figure.Figure at 0x104250250>"
      ]
     },
     "metadata": {},
     "output_type": "display_data"
    }
   ],
   "source": [
    "raw_data[['base_price', 'bought_price', 'costs', 'seconds_in_disposition']].hist(bins=50)"
   ]
  },
  {
   "cell_type": "code",
   "execution_count": 6,
   "metadata": {
    "collapsed": false
   },
   "outputs": [
    {
     "data": {
      "text/plain": [
       "profit\n",
       "average    2241\n",
       "bad        2147\n",
       "good       2058\n",
       "Name: profit, dtype: int64"
      ]
     },
     "execution_count": 6,
     "metadata": {},
     "output_type": "execute_result"
    }
   ],
   "source": [
    "raw_data.groupby('profit').profit.count()"
   ]
  },
  {
   "cell_type": "markdown",
   "metadata": {},
   "source": [
    "## 2. Analyze the data"
   ]
  },
  {
   "cell_type": "code",
   "execution_count": 72,
   "metadata": {
    "collapsed": false,
    "scrolled": true
   },
   "outputs": [
    {
     "name": "stderr",
     "output_type": "stream",
     "text": [
      "/Users/pranjor/anaconda2/lib/python2.7/site-packages/sklearn/preprocessing/data.py:321: DeprecationWarning: Passing 1d arrays as data is deprecated in 0.17 and will raise ValueError in 0.19. Reshape your data either using X.reshape(-1, 1) if your data has a single feature or X.reshape(1, -1) if it contains a single sample.\n",
      "  warnings.warn(DEPRECATION_MSG_1D, DeprecationWarning)\n",
      "/Users/pranjor/anaconda2/lib/python2.7/site-packages/sklearn/preprocessing/data.py:356: DeprecationWarning: Passing 1d arrays as data is deprecated in 0.17 and will raise ValueError in 0.19. Reshape your data either using X.reshape(-1, 1) if your data has a single feature or X.reshape(1, -1) if it contains a single sample.\n",
      "  warnings.warn(DEPRECATION_MSG_1D, DeprecationWarning)\n",
      "/Users/pranjor/anaconda2/lib/python2.7/site-packages/sklearn/preprocessing/data.py:321: DeprecationWarning: Passing 1d arrays as data is deprecated in 0.17 and will raise ValueError in 0.19. Reshape your data either using X.reshape(-1, 1) if your data has a single feature or X.reshape(1, -1) if it contains a single sample.\n",
      "  warnings.warn(DEPRECATION_MSG_1D, DeprecationWarning)\n",
      "/Users/pranjor/anaconda2/lib/python2.7/site-packages/sklearn/preprocessing/data.py:356: DeprecationWarning: Passing 1d arrays as data is deprecated in 0.17 and will raise ValueError in 0.19. Reshape your data either using X.reshape(-1, 1) if your data has a single feature or X.reshape(1, -1) if it contains a single sample.\n",
      "  warnings.warn(DEPRECATION_MSG_1D, DeprecationWarning)\n",
      "/Users/pranjor/anaconda2/lib/python2.7/site-packages/sklearn/preprocessing/data.py:321: DeprecationWarning: Passing 1d arrays as data is deprecated in 0.17 and will raise ValueError in 0.19. Reshape your data either using X.reshape(-1, 1) if your data has a single feature or X.reshape(1, -1) if it contains a single sample.\n",
      "  warnings.warn(DEPRECATION_MSG_1D, DeprecationWarning)\n",
      "/Users/pranjor/anaconda2/lib/python2.7/site-packages/sklearn/preprocessing/data.py:356: DeprecationWarning: Passing 1d arrays as data is deprecated in 0.17 and will raise ValueError in 0.19. Reshape your data either using X.reshape(-1, 1) if your data has a single feature or X.reshape(1, -1) if it contains a single sample.\n",
      "  warnings.warn(DEPRECATION_MSG_1D, DeprecationWarning)\n",
      "/Users/pranjor/anaconda2/lib/python2.7/site-packages/sklearn/preprocessing/data.py:321: DeprecationWarning: Passing 1d arrays as data is deprecated in 0.17 and will raise ValueError in 0.19. Reshape your data either using X.reshape(-1, 1) if your data has a single feature or X.reshape(1, -1) if it contains a single sample.\n",
      "  warnings.warn(DEPRECATION_MSG_1D, DeprecationWarning)\n",
      "/Users/pranjor/anaconda2/lib/python2.7/site-packages/sklearn/preprocessing/data.py:356: DeprecationWarning: Passing 1d arrays as data is deprecated in 0.17 and will raise ValueError in 0.19. Reshape your data either using X.reshape(-1, 1) if your data has a single feature or X.reshape(1, -1) if it contains a single sample.\n",
      "  warnings.warn(DEPRECATION_MSG_1D, DeprecationWarning)\n",
      "/Users/pranjor/anaconda2/lib/python2.7/site-packages/sklearn/preprocessing/data.py:321: DeprecationWarning: Passing 1d arrays as data is deprecated in 0.17 and will raise ValueError in 0.19. Reshape your data either using X.reshape(-1, 1) if your data has a single feature or X.reshape(1, -1) if it contains a single sample.\n",
      "  warnings.warn(DEPRECATION_MSG_1D, DeprecationWarning)\n",
      "/Users/pranjor/anaconda2/lib/python2.7/site-packages/sklearn/preprocessing/data.py:356: DeprecationWarning: Passing 1d arrays as data is deprecated in 0.17 and will raise ValueError in 0.19. Reshape your data either using X.reshape(-1, 1) if your data has a single feature or X.reshape(1, -1) if it contains a single sample.\n",
      "  warnings.warn(DEPRECATION_MSG_1D, DeprecationWarning)\n",
      "/Users/pranjor/anaconda2/lib/python2.7/site-packages/sklearn/preprocessing/data.py:321: DeprecationWarning: Passing 1d arrays as data is deprecated in 0.17 and will raise ValueError in 0.19. Reshape your data either using X.reshape(-1, 1) if your data has a single feature or X.reshape(1, -1) if it contains a single sample.\n",
      "  warnings.warn(DEPRECATION_MSG_1D, DeprecationWarning)\n",
      "/Users/pranjor/anaconda2/lib/python2.7/site-packages/sklearn/preprocessing/data.py:356: DeprecationWarning: Passing 1d arrays as data is deprecated in 0.17 and will raise ValueError in 0.19. Reshape your data either using X.reshape(-1, 1) if your data has a single feature or X.reshape(1, -1) if it contains a single sample.\n",
      "  warnings.warn(DEPRECATION_MSG_1D, DeprecationWarning)\n",
      "/Users/pranjor/anaconda2/lib/python2.7/site-packages/sklearn/preprocessing/data.py:321: DeprecationWarning: Passing 1d arrays as data is deprecated in 0.17 and will raise ValueError in 0.19. Reshape your data either using X.reshape(-1, 1) if your data has a single feature or X.reshape(1, -1) if it contains a single sample.\n",
      "  warnings.warn(DEPRECATION_MSG_1D, DeprecationWarning)\n",
      "/Users/pranjor/anaconda2/lib/python2.7/site-packages/sklearn/preprocessing/data.py:356: DeprecationWarning: Passing 1d arrays as data is deprecated in 0.17 and will raise ValueError in 0.19. Reshape your data either using X.reshape(-1, 1) if your data has a single feature or X.reshape(1, -1) if it contains a single sample.\n",
      "  warnings.warn(DEPRECATION_MSG_1D, DeprecationWarning)\n"
     ]
    }
   ],
   "source": [
    "#scale numerical variables to between (0,1)\n",
    "new_data = raw_data\n",
    "\n",
    "from sklearn import preprocessing\n",
    "min_max_scaler = preprocessing.MinMaxScaler()\n",
    "num_var = ['mileage','year','base_price','seconds_in_disposition','transports_count','bought_price','costs']\n",
    "\n",
    "for i in num_var:\n",
    "#     new_data[i] = preprocessing.scale(new_data[i])\n",
    "    new_data[i] = min_max_scaler.fit_transform(new_data[i])"
   ]
  },
  {
   "cell_type": "code",
   "execution_count": 73,
   "metadata": {
    "collapsed": false
   },
   "outputs": [],
   "source": [
    "# create dummy variables\n",
    "cat_var = set(raw_data.columns.values) - set(num_var) - set(['id','customer_id','dealership_id','profit'])\n",
    "\n",
    "for i in cat_var:\n",
    "    dummy = pd.get_dummies(raw_data[i],prefix=i)\n",
    "    new_data = pd.concat([new_data, dummy], axis=1)\n",
    "    new_data.drop([i,dummy.columns.values[0]],inplace=True, axis=1)"
   ]
  },
  {
   "cell_type": "code",
   "execution_count": 74,
   "metadata": {
    "collapsed": false
   },
   "outputs": [],
   "source": [
    "#convert profit from words to level(bad = 0, average = 1, good = 2)\n",
    "new_data['profit_level'] = 0\n",
    "new_data.loc[new_data.profit=='average','profit_level'] = 1\n",
    "new_data.loc[new_data.profit=='good','profit_level'] = 2\n",
    "new_data = new_data.drop('profit', axis=1)"
   ]
  },
  {
   "cell_type": "code",
   "execution_count": 75,
   "metadata": {
    "collapsed": false
   },
   "outputs": [],
   "source": [
    "X = new_data.drop(['id','customer_id','dealership_id','profit_level'],axis=1)\n",
    "Y = new_data.profit_level"
   ]
  },
  {
   "cell_type": "code",
   "execution_count": null,
   "metadata": {
    "collapsed": true
   },
   "outputs": [],
   "source": [
    "#use recursive feature elimination to find the most important features\n",
    "\n",
    "from sklearn.linear_model import LogisticRegression\n",
    "from sklearn.feature_selection import RFE\n",
    "\n",
    "car_logistic = LogisticRegression(penalty = 'l2',C = 1000000)\n",
    "rfe = RFE(car_logistic, 5)\n",
    "fit = rfe.fit(X, Y)"
   ]
  },
  {
   "cell_type": "code",
   "execution_count": 82,
   "metadata": {
    "collapsed": false
   },
   "outputs": [
    {
     "data": {
      "text/plain": [
       "array(['wheels_condition_2', 'interior_condition_2',\n",
       "       'exterior_condition_2', 'vehicle_type_Front-Line', 'powertrain_1'], dtype=object)"
      ]
     },
     "execution_count": 82,
     "metadata": {},
     "output_type": "execute_result"
    }
   ],
   "source": [
    "#conduct chi-square test to find the most importnat featuers\n",
    "\n",
    "from sklearn.feature_selection import (SelectKBest, chi2)\n",
    "import numpy\n",
    "\n",
    "test = SelectKBest(score_func=chi2, k=5)\n",
    "fit = test.fit(X, Y)\n",
    "\n",
    "numpy.set_printoptions(precision=3)\n",
    "\n",
    "score = fit.scores_\n",
    "top5 = score.argsort()[-5:][::-1]\n",
    "X.columns.values[top5]"
   ]
  },
  {
   "cell_type": "code",
   "execution_count": 87,
   "metadata": {
    "collapsed": false
   },
   "outputs": [
    {
     "name": "stdout",
     "output_type": "stream",
     "text": [
      "Explained Variance: [ 0.068  0.038  0.033  0.029  0.025]\n"
     ]
    }
   ],
   "source": [
    "#perform Principle Component Analysis\n",
    "\n",
    "from sklearn.decomposition import PCA\n",
    "\n",
    "# feature extraction\n",
    "pca = PCA(n_components=5)\n",
    "fit = pca.fit(X)\n",
    "# summarize components\n",
    "print(\"Explained Variance: %s\") % fit.explained_variance_ratio_"
   ]
  },
  {
   "cell_type": "markdown",
   "metadata": {
    "collapsed": true
   },
   "source": [
    "## 3. Train an algorithm"
   ]
  },
  {
   "cell_type": "code",
   "execution_count": 88,
   "metadata": {
    "collapsed": false
   },
   "outputs": [
    {
     "data": {
      "text/plain": [
       "0.51738721804511278"
      ]
     },
     "execution_count": 88,
     "metadata": {},
     "output_type": "execute_result"
    }
   ],
   "source": [
    "#Random Forest with cross validation\n",
    "\n",
    "from sklearn.ensemble import RandomForestClassifier\n",
    "from sklearn.model_selection import (train_test_split, GridSearchCV)\n",
    "from sklearn.metrics import (accuracy_score,make_scorer)\n",
    "\n",
    "X_train, X_test, Y_train, Y_test = train_test_split(X, Y, test_size=0.33, random_state=42)\n",
    "\n",
    "param_grid = {'n_estimators':[5,10,20,30], 'min_samples_leaf': [1, 2, 5, 10] , 'max_depth': [None, 5, 10, 50]}\n",
    "\n",
    "rf = RandomForestClassifier()\n",
    "scorer = make_scorer(accuracy_score, greater_is_better=True)\n",
    "clf_rf = GridSearchCV(rf, param_grid, cv = 5, scoring=scorer)\n",
    "clf_rf.fit(X_train, Y_train)\n",
    "\n",
    "clf_prediction = clf_rf.predict(X_test)\n",
    "\n",
    "accuracy_score(Y_test, clf_prediction)"
   ]
  },
  {
   "cell_type": "code",
   "execution_count": 97,
   "metadata": {
    "collapsed": false
   },
   "outputs": [
    {
     "data": {
      "text/plain": [
       "array(['seconds_in_disposition', 'mileage', 'bought_price', 'year',\n",
       "       'base_price'], dtype=object)"
      ]
     },
     "execution_count": 97,
     "metadata": {},
     "output_type": "execute_result"
    }
   ],
   "source": [
    "#5 most important features\n",
    "best_param = clf_rf.best_params_\n",
    "best_rf = RandomForestClassifier(n_estimators=best_param['n_estimators'], max_depth=best_param['max_depth'], min_samples_leaf=best_param['min_samples_leaf'])\n",
    "best_rf.fit(X_train,Y_train)\n",
    "\n",
    "score = best_rf.feature_importances_\n",
    "top5 = score.argsort()[-5:][::-1]\n",
    "X.columns.values[top5]"
   ]
  },
  {
   "cell_type": "code",
   "execution_count": 128,
   "metadata": {
    "collapsed": false
   },
   "outputs": [
    {
     "name": "stdout",
     "output_type": "stream",
     "text": [
      "0.459586466165\n"
     ]
    }
   ],
   "source": [
    "#Multi-Layer Perceptron\n",
    "from sklearn.neural_network import MLPClassifier\n",
    "\n",
    "mlp = MLPClassifier(solver='sgd',learning_rate_init=0.01,max_iter=1000)\n",
    "mlp.fit(X_train, Y_train)\n",
    "\n",
    "print mlp.score(X_test,Y_test)"
   ]
  },
  {
   "cell_type": "code",
   "execution_count": 133,
   "metadata": {
    "collapsed": false
   },
   "outputs": [
    {
     "data": {
      "text/plain": [
       "0.57001879699248126"
      ]
     },
     "execution_count": 133,
     "metadata": {},
     "output_type": "execute_result"
    }
   ],
   "source": [
    "from sklearn.ensemble import GradientBoostingClassifier\n",
    "\n",
    "boosting = GradientBoostingClassifier(n_estimators=20)\n",
    "boosting.fit(X_train, Y_train)\n",
    "boosting_pred = boosting.predict(X_test)\n",
    "\n",
    "accuracy_score(Y_test, boosting_pred)"
   ]
  },
  {
   "cell_type": "markdown",
   "metadata": {
    "collapsed": true
   },
   "source": [
    "## 4. Conclusions and future work"
   ]
  },
  {
   "cell_type": "markdown",
   "metadata": {
    "collapsed": true
   },
   "source": [
    "The most imporant 5 features based on chi-square test are\n",
    "1. 'wheels_condition_2': wheels condition rated at 2, \n",
    "2. 'interior_condition_2': interior condition rated at 2\n",
    "3. 'exterior_condition_2': exterior conditoin rated at 2\n",
    "4. 'vehicle_type_Front-Line': front line vehicle type \n",
    "5. 'powertrain_1': powertrain rated at 1\n",
    "\n",
    "The most imporant 5 features based on random forest are seconds_in_disposition, mileage, bought_price, year, and base_price. Intuitively, these features make more sense. However, since the performance of the model is underwhelming, the results can't be completely trusted.\n",
    "\n",
    "Random Forest, Boosting Trees and MLP perform poorly, just slightly higher than 0.5. There are a few things to be done to improve the perforance:\n",
    "1. clean the data. Some featuers such as interior color,seats,and engine have messy information. Cleaning these columns could reduce demension as well as improve performance.\n",
    "2. Some features such as base price and bought price have many 0s. One thing we could do is to create dummy variables that flag 0 cells, since that could be imporant information.\n",
    "3. The cars might fall under different tiers and different tiers might fit into different models. We could implement clustering and apply different models in each cluster. It's also good for detecting outliers.\n",
    "4. Other models to try: SVM, boosting trees, Lasso regression (also good for finding important features).\n",
    "5. cross validate and finetune the parameters for MLP and boosting trees, it was not done successfully due to time constraint.\n"
   ]
  }
 ],
 "metadata": {
  "anaconda-cloud": {},
  "kernelspec": {
   "display_name": "Python [default]",
   "language": "python",
   "name": "python2"
  },
  "language_info": {
   "codemirror_mode": {
    "name": "ipython",
    "version": 2
   },
   "file_extension": ".py",
   "mimetype": "text/x-python",
   "name": "python",
   "nbconvert_exporter": "python",
   "pygments_lexer": "ipython2",
   "version": "2.7.12"
  }
 },
 "nbformat": 4,
 "nbformat_minor": 0
}
